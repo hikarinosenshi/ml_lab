{
 "cells": [
  {
   "cell_type": "markdown",
   "metadata": {},
   "source": [
    "## Part I: Preprocessing and EDA\n",
    "\n",
    "- The data comes from a global e-retailer company, including orders from 2012 to 2015. Import the **Orders** dataset and do some basic EDA. \n",
    "- For problem 1 to 3, we mainly focus on data cleaning and data visualizations. You can use all the packages that you are familiar with to conduct some plots and also provide **brief interpretations** about your findings."
   ]
  },
  {
   "cell_type": "markdown",
   "metadata": {},
   "source": [
    "### Problem 1: Dataset Import & Cleaning\n",
    "Check **\"Profit\"** and **\"Sales\"** in the dataset, convert these two columns to numeric type. "
   ]
  },
  {
   "cell_type": "code",
   "execution_count": 2,
   "metadata": {},
   "outputs": [],
   "source": [
    "import pandas as pd\n",
    "orders = pd.read_csv('../data/Orders.csv', index_col=0, parse_dates=True)"
   ]
  },
  {
   "cell_type": "code",
   "execution_count": 3,
   "metadata": {},
   "outputs": [],
   "source": [
    "orders['Profit'] = pd.to_numeric(orders['Profit'].str.replace('$', '').str.replace(',',''))\n",
    "orders['Sales'] = pd.to_numeric(orders['Sales'].str.replace('$', '').str.replace(',',''))"
   ]
  },
  {
   "cell_type": "markdown",
   "metadata": {},
   "source": [
    "### Problem 2: Inventory Management\n",
    "- Retailers that depend on seasonal shoppers have a particularly challenging job when it comes to inventory management. Your manager is making plans for next year's inventory.\n",
    "- He wants you to answer the following questions:\n",
    "    1. Is there any seasonal trend of inventory in the company?\n",
    "    2. Is the seasonal trend the same for different categories?\n",
    "\n",
    "- ***Hint:*** For each order, it has an attribute called `Quantity` that indicates the number of product in the order. If an order contains more than one product, there will be multiple observations of the same order."
   ]
  },
  {
   "cell_type": "code",
   "execution_count": 4,
   "metadata": {},
   "outputs": [],
   "source": [
    "orders['Order.Date'] = pd.to_datetime(orders['Order.Date'])\n",
    "orders = orders.set_index(orders['Order.Date'])\n",
    "\n",
    "bins = [0, 91, 183, 275, 366]\n",
    "labels=['Winter', 'Spring', 'Summer', 'Fall']\n",
    "doy = orders.index.dayofyear\n",
    "orders['Season'] = pd.cut(doy + 11 - 366*(doy > 355), bins=bins, labels=labels)\n",
    "\n",
    "season_trend = orders.groupby(['Season','Category']).agg({'Quantity':['sum']})\n",
    "season_trend = season_trend.reset_index()\n",
    "season_trend.columns = ['Season','Category','Quantity']"
   ]
  },
  {
   "cell_type": "code",
   "execution_count": 5,
   "metadata": {},
   "outputs": [
    {
     "data": {
      "text/plain": [
       "<matplotlib.axes._subplots.AxesSubplot at 0x7fee28795af0>"
      ]
     },
     "execution_count": 5,
     "metadata": {},
     "output_type": "execute_result"
    },
    {
     "data": {
      "image/png": "[encoded data removed]",
      "text/plain": [
       "<Figure size 432x288 with 1 Axes>"
      ]
     },
     "metadata": {
      "needs_background": "light"
     },
     "output_type": "display_data"
    }
   ],
   "source": [
    "# two lines....\n",
    "import seaborn as sns\n",
    "sns.barplot(x=\"Season\", y=\"Quantity\", hue=\"Category\", data=season_trend)"
   ]
  },
  {
   "cell_type": "markdown",
   "metadata": {},
   "source": [
    "### Problem 3: Why did customers make returns?\n",
    "- Your manager required you to give a brief report (**Plots + Interpretations**) on returned orders.\n",
    "\n",
    "\t1. How much profit did we lose due to returns each year?\n",
    "\n",
    "\n",
    "\t2. How many customer returned more than once? more than 5 times?\n",
    "\n",
    "\n",
    "\t3. Which regions are more likely to return orders?\n",
    "\n",
    "\n",
    "\t4. Which categories (sub-categories) of products are more likely to be returned?\n",
    "\n",
    "- ***Hint:*** Merge the **Returns** dataframe with the **Orders** dataframe using `Order.ID`."
   ]
  },
  {
   "cell_type": "code",
   "execution_count": 6,
   "metadata": {},
   "outputs": [],
   "source": [
    "returns = pd.read_csv('../data/Returns.csv', index_col=0)\n",
    "returns.columns = ['Order.ID', 'Region'] # rename columns of returns\n",
    "returned_orders = orders.merge(returns, left_on='Order.ID', right_on='Order.ID') # merge orders and returns\n",
    "returned_orders['Year'] = pd.DatetimeIndex(returned_orders['Order.Date']).year # new feature: Year"
   ]
  },
  {
   "cell_type": "code",
   "execution_count": 9,
   "metadata": {},
   "outputs": [
    {
     "name": "stderr",
     "output_type": "stream",
     "text": [
      "<ipython-input-9-5b5621132392>:5: SettingWithCopyWarning: \n",
      "A value is trying to be set on a copy of a slice from a DataFrame.\n",
      "Try using .loc[row_indexer,col_indexer] = value instead\n",
      "\n",
      "See the caveats in the documentation: https://pandas.pydata.org/pandas-docs/stable/user_guide/indexing.html#returning-a-view-versus-a-copy\n",
      "  Profit_loss['Profit'] = Profit_loss[Profit_loss['Profit'] < 0]['Profit']\n"
     ]
    },
    {
     "data": {
      "text/html": [
       "<div>\n",
       "<style scoped>\n",
       "    .dataframe tbody tr th:only-of-type {\n",
       "        vertical-align: middle;\n",
       "    }\n",
       "\n",
       "    .dataframe tbody tr th {\n",
       "        vertical-align: top;\n",
       "    }\n",
       "\n",
       "    .dataframe thead tr th {\n",
       "        text-align: left;\n",
       "    }\n",
       "\n",
       "    .dataframe thead tr:last-of-type th {\n",
       "        text-align: right;\n",
       "    }\n",
       "</style>\n",
       "<table border=\"1\" class=\"dataframe\">\n",
       "  <thead>\n",
       "    <tr>\n",
       "      <th></th>\n",
       "      <th>Profit</th>\n",
       "    </tr>\n",
       "    <tr>\n",
       "      <th></th>\n",
       "      <th>sum</th>\n",
       "    </tr>\n",
       "    <tr>\n",
       "      <th>Year</th>\n",
       "      <th></th>\n",
       "    </tr>\n",
       "  </thead>\n",
       "  <tbody>\n",
       "    <tr>\n",
       "      <th>2012</th>\n",
       "      <td>-5772.54</td>\n",
       "    </tr>\n",
       "    <tr>\n",
       "      <th>2013</th>\n",
       "      <td>-7713.03</td>\n",
       "    </tr>\n",
       "    <tr>\n",
       "      <th>2014</th>\n",
       "      <td>-7439.43</td>\n",
       "    </tr>\n",
       "    <tr>\n",
       "      <th>2015</th>\n",
       "      <td>-15907.60</td>\n",
       "    </tr>\n",
       "  </tbody>\n",
       "</table>\n",
       "</div>"
      ],
      "text/plain": [
       "        Profit\n",
       "           sum\n",
       "Year          \n",
       "2012  -5772.54\n",
       "2013  -7713.03\n",
       "2014  -7439.43\n",
       "2015 -15907.60"
      ]
     },
     "execution_count": 9,
     "metadata": {},
     "output_type": "execute_result"
    }
   ],
   "source": [
    "#Now lets compare how much was lost \n",
    "#Filter only products that had a loss\n",
    "Profit_loss = returned_orders[['Year', 'Profit']]\n",
    "\n",
    "Profit_loss['Profit'] = Profit_loss[Profit_loss['Profit'] < 0]['Profit']\n",
    "Profit_loss.dropna()\n",
    "\n",
    "Profit_Loss_table = Profit_loss.groupby(['Year']).agg({\"Profit\":['sum']})\n",
    "Profit_Loss_table"
   ]
  },
  {
   "cell_type": "code",
   "execution_count": 10,
   "metadata": {},
   "outputs": [
    {
     "data": {
      "text/plain": [
       "<matplotlib.legend.Legend at 0x7fee28a5a5e0>"
      ]
     },
     "execution_count": 10,
     "metadata": {},
     "output_type": "execute_result"
    },
    {
     "data": {
      "image/png": "[encoded data removed]",
      "text/plain": [
       "<Figure size 1440x720 with 1 Axes>"
      ]
     },
     "metadata": {
      "needs_background": "light"
     },
     "output_type": "display_data"
    }
   ],
   "source": [
    "# libraries\n",
    "import matplotlib.pyplot as plt\n",
    "import numpy as np\n",
    "import pandas as pd\n",
    " \n",
    "x = [2012, 2013, 2014, 2015]\n",
    "plt.figure(figsize=(20,10))\n",
    "# multiple line plot\n",
    "plt.plot( x, 'Profit', data=Profit_Loss_table, marker='o', markerfacecolor='black', markersize=8, color='red', linewidth=4, linestyle = 'dashed', label = \"Loss\")\n",
    "# plt.plot( x, 'Profit', data=Total_Profit, marker='s', markerfacecolor='black', markersize=8, color='blue', linewidth=4, linestyle = 'dashed', label = \"Total Profit\")\n",
    "plt.xticks(x)\n",
    "plt.xlabel('Year')\n",
    "plt.ylabel('Profit in $') \n",
    "plt.title('Total Profit vs. Profit Lost')\n",
    "plt.legend()"
   ]
  },
  {
   "cell_type": "code",
   "execution_count": 11,
   "metadata": {},
   "outputs": [
    {
     "name": "stdout",
     "output_type": "stream",
     "text": [
      "Number of customers that returned more than once:  551\n",
      "Number of customers that returned more than 5 times:  41\n"
     ]
    }
   ],
   "source": [
    "# 2. How many customer returned more than once? more than 5 times?\n",
    "returned_orders_customer = returned_orders.groupby(['Customer.ID','Order.ID']).agg({\"Order.ID\":['count']})\n",
    "returned_orders_customer = returned_orders_customer.reset_index()\n",
    "print('Number of customers that returned more than once: ',returned_orders_customer[returned_orders_customer['Order.ID']['count']>1]['Customer.ID'].size)\n",
    "print('Number of customers that returned more than 5 times: ',returned_orders_customer[returned_orders_customer['Order.ID']['count']>5]['Customer.ID'].size)"
   ]
  },
  {
   "cell_type": "code",
   "execution_count": 12,
   "metadata": {},
   "outputs": [],
   "source": [
    "# 3. Which regions are more likely to return orders?\n",
    "returned_orders_regions = pd.DataFrame(returns.groupby(['Region']).size())\n",
    "returned_orders_regions = (returned_orders_regions / returned_orders_regions[0].sum() * 100).round(2).sort_values([0], ascending=False)\n",
    "returned_orders_regions.reset_index(inplace=True)\n",
    "returned_orders_regions.columns = ['Region','Percentage']"
   ]
  },
  {
   "cell_type": "code",
   "execution_count": 13,
   "metadata": {},
   "outputs": [
    {
     "data": {
      "text/plain": [
       "<matplotlib.axes._subplots.AxesSubplot at 0x7fee28975310>"
      ]
     },
     "execution_count": 13,
     "metadata": {},
     "output_type": "execute_result"
    },
    {
     "data": {
      "image/png": "[encoded data removed]",
      "text/plain": [
       "<Figure size 432x288 with 1 Axes>"
      ]
     },
     "metadata": {
      "needs_background": "light"
     },
     "output_type": "display_data"
    }
   ],
   "source": [
    "sns.barplot(x=\"Percentage\", y=\"Region\", data=returned_orders_regions, )"
   ]
  },
  {
   "cell_type": "code",
   "execution_count": 14,
   "metadata": {},
   "outputs": [],
   "source": [
    "# 4. Which categories (sub-categories) of products are more likely to be returned?\n",
    "returned_categories = pd.DataFrame(returned_orders.groupby(['Category','Sub.Category']).size())\n",
    "returned_categories = (returned_categories / returned_categories[0].sum() * 100).round(2).sort_values([0], ascending=False)\n",
    "returned_categories.reset_index(inplace=True)\n",
    "returned_categories.columns = ['Category', 'Sub.Category', 'Percentage']"
   ]
  },
  {
   "cell_type": "code",
   "execution_count": 15,
   "metadata": {},
   "outputs": [
    {
     "data": {
      "text/plain": [
       "<matplotlib.axes._subplots.AxesSubplot at 0x7fee238f9f40>"
      ]
     },
     "execution_count": 15,
     "metadata": {},
     "output_type": "execute_result"
    },
    {
     "data": {
      "image/png": "[encoded data removed]",
      "text/plain": [
       "<Figure size 432x288 with 1 Axes>"
      ]
     },
     "metadata": {
      "needs_background": "light"
     },
     "output_type": "display_data"
    }
   ],
   "source": [
    "sns.barplot(x=\"Percentage\", y=\"Sub.Category\", hue=\"Category\", data=returned_categories)"
   ]
  },
  {
   "cell_type": "markdown",
   "metadata": {},
   "source": [
    "## Part II: Machine Learning and Business Use Case\n",
    "\n",
    "Now your manager has a basic understanding of why customers returned orders. Next, he wants you to use machine learning to predict which orders are most likely to be returned. In this part, you will generate several features based on our previous findings and your manager's requirements."
   ]
  },
  {
   "cell_type": "markdown",
   "metadata": {},
   "source": [
    "### Problem 4: Feature Engineering\n",
    "#### Step 1: Create the dependent variable\n",
    "- First of all, we need to generate a categorical variable which indicates whether an order has been returned or not.\n",
    "- ***Hint:*** the returned orders’ IDs are contained in the dataset “returns”\n"
   ]
  },
  {
   "cell_type": "code",
   "execution_count": 16,
   "metadata": {},
   "outputs": [],
   "source": [
    "orders1 = pd.read_csv('../data/Orders.csv')\n",
    "returns1 = pd.read_csv('../data/Returns.csv')\n",
    "returns1.columns = ['Returns', 'Order.ID', 'Region']"
   ]
  },
  {
   "cell_type": "code",
   "execution_count": 17,
   "metadata": {},
   "outputs": [],
   "source": [
    "new_orders = pd.merge(orders1, returns1, left_on='Order.ID', right_on='Order.ID', how='outer')\n",
    "new_orders['Returns']=new_orders['Returns'].fillna('No')"
   ]
  },
  {
   "cell_type": "markdown",
   "metadata": {},
   "source": [
    "\n",
    "#### Step 2:\n",
    "- Your manager believes that **how long it took the order to ship** would affect whether the customer would return it or not. \n",
    "- He wants you to generate a feature which can measure how long it takes the company to process each order.\n",
    "- ***Hint:*** Process.Time = Ship.Date - Order.Date\n"
   ]
  },
  {
   "cell_type": "code",
   "execution_count": 18,
   "metadata": {},
   "outputs": [],
   "source": [
    "new_orders['Ship.Date']= pd.to_datetime(new_orders['Ship.Date'])\n",
    "new_orders['Order.Date']= pd.to_datetime(new_orders['Order.Date'])\n",
    "new_orders['Process.Time'] = new_orders['Ship.Date'].sub(new_orders['Order.Date'], axis=0)"
   ]
  },
  {
   "cell_type": "markdown",
   "metadata": {},
   "source": [
    "#### Step 3:\n",
    "\n",
    "- If a product has been returned before, it may be returned again. \n",
    "- Let us generate a feature that indicates how many times the product has been returned before.\n",
    "- If it never got returned, we just impute using 0.\n",
    "- ***Hint:*** Group by different Product.ID\n"
   ]
  },
  {
   "cell_type": "code",
   "execution_count": 19,
   "metadata": {},
   "outputs": [],
   "source": [
    "# change settings to allow all the columns to be displayed\n",
    "pd.set_option('display.max_columns', None)"
   ]
  },
  {
   "cell_type": "code",
   "execution_count": 20,
   "metadata": {},
   "outputs": [],
   "source": [
    "# Temp table -> holds number counts of products returned\n",
    "temp = pd.DataFrame(new_orders[new_orders['Returns']=='Yes'].groupby('Product.ID').size())"
   ]
  },
  {
   "cell_type": "code",
   "execution_count": 21,
   "metadata": {},
   "outputs": [],
   "source": [
    "# Merge with temp table\n",
    "new_orders = new_orders.merge(temp, on=\"Product.ID\", how=\"outer\" )"
   ]
  },
  {
   "cell_type": "code",
   "execution_count": 22,
   "metadata": {},
   "outputs": [],
   "source": [
    "# Replace NaN with zero\n",
    "new_orders[0].fillna(0, inplace=True)"
   ]
  },
  {
   "cell_type": "code",
   "execution_count": 23,
   "metadata": {},
   "outputs": [],
   "source": [
    "# Change type of new column to Integer\n",
    "new_orders[0] = new_orders[0].astype('int64')"
   ]
  },
  {
   "cell_type": "code",
   "execution_count": 24,
   "metadata": {},
   "outputs": [],
   "source": [
    "# rename column \"0\" to \"Times.Returned\"\n",
    "new_orders.rename(columns={0: \"Times.Returned\"}, inplace=True)"
   ]
  },
  {
   "cell_type": "markdown",
   "metadata": {},
   "source": [
    "\n",
    "### Problem 5: Fitting Models\n",
    "\n",
    "- You can use any binary classification method you have learned so far.\n",
    "- Use 80/20 training and test splits to build your model. \n",
    "- Double check the column types before you fit the model.\n",
    "- Only include useful features. i.e all the `ID`s should be excluded from your training set.\n",
    "- Note that there are only less than 5% of the orders have been returned, so you should consider using the [createDataPartition](https://www.rdocumentation.org/packages/caret/versions/6.0-80/topics/createDataPartition) function from `caret` package and [StratifiedKfold](http://scikit-learn.org/stable/modules/generated/sklearn.model_selection.StratifiedKFold.html#sklearn-model-selection-stratifiedkfold) from sklearn when running cross-validation.\n",
    "- Do forget to `set.seed()` before the spilt to make your result reproducible.\n",
    "- **Note:** We are not looking for the best tuned model in the lab so don't spend too much time on grid search. Focus on model evaluation and the business use case of each model.\n"
   ]
  },
  {
   "cell_type": "code",
   "execution_count": 25,
   "metadata": {},
   "outputs": [],
   "source": [
    "%matplotlib inline\n",
    "import matplotlib.pyplot as plt\n",
    "plt.style.use('ggplot')\n",
    "import numpy as np\n",
    "from sklearn.ensemble import RandomForestClassifier\n",
    "from sklearn.linear_model import LogisticRegression"
   ]
  },
  {
   "cell_type": "code",
   "execution_count": 26,
   "metadata": {},
   "outputs": [],
   "source": [
    "# Target Variable: replace Yes -> 1 and No -> 0\n",
    "new_orders.Returns.replace({'Yes':1, 'No':0}, inplace=True)"
   ]
  },
  {
   "cell_type": "code",
   "execution_count": 27,
   "metadata": {},
   "outputs": [],
   "source": [
    "# Create training set and test set\n",
    "np.random.seed(0)\n",
    "testIdxes = np.random.choice(range(new_orders.shape[0]), size= int(new_orders.shape[0] * .2), replace=False)\n",
    "trainIdxes = list(set(range(new_orders.shape[0]))-set(testIdxes))\n",
    "train_set = new_orders.iloc[trainIdxes]\n",
    "test_set = new_orders.iloc[testIdxes]"
   ]
  },
  {
   "cell_type": "code",
   "execution_count": 28,
   "metadata": {},
   "outputs": [],
   "source": [
    "train_set_encoded = pd.get_dummies(train_set[[\"Segment\",'Sub.Category', 'Returns','Times.Returned']])\n",
    "test_set_encoded = pd.get_dummies(test_set[[\"Segment\",'Sub.Category', 'Returns', 'Times.Returned']])"
   ]
  },
  {
   "cell_type": "code",
   "execution_count": 29,
   "metadata": {},
   "outputs": [],
   "source": [
    "y = train_set_encoded.Returns\n",
    "X = train_set_encoded[train_set_encoded.columns[1:]]\n",
    "y_test = test_set_encoded.Returns\n",
    "X_test = test_set_encoded[test_set_encoded.columns[1:]]"
   ]
  },
  {
   "cell_type": "code",
   "execution_count": 30,
   "metadata": {},
   "outputs": [
    {
     "name": "stdout",
     "output_type": "stream",
     "text": [
      "0.711420354844999\n",
      "0.7140768180931956\n"
     ]
    }
   ],
   "source": [
    "# Logistic Regression\n",
    "logistic = LogisticRegression(C=1e4, solver='lbfgs', multi_class='auto', class_weight=\"balanced\")\n",
    "logistic.fit(X,y)\n",
    "print(logistic.score(X, y))\n",
    "print(logistic.score(X_test, y_test))\n"
   ]
  },
  {
   "cell_type": "code",
   "execution_count": 31,
   "metadata": {},
   "outputs": [
    {
     "name": "stdout",
     "output_type": "stream",
     "text": [
      "0.5793283291089881\n",
      "0.5742834860596607\n"
     ]
    }
   ],
   "source": [
    "# Random Forest\n",
    "from sklearn.ensemble import RandomForestClassifier\n",
    "cclf = RandomForestClassifier(max_depth=21, random_state=0, class_weight=\"balanced\")\n",
    "cclf.fit(X, y)\n",
    "print(cclf.score(X,y))\n",
    "print(cclf.score(X_test,y_test))"
   ]
  },
  {
   "cell_type": "markdown",
   "metadata": {},
   "source": [
    "### Problem 6: Evaluating Models\n",
    "- What is the best metric to evaluate your model. Is accuracy good for this case?\n",
    "- Now you have multiple models, which one would you pick? \n",
    "- Can you get any clue from the confusion matrix? What is the meaning of precision and recall in this case? Which one do you care the most? How will your model help the manager make decisions?\n",
    "- **Note:** The last question is open-ended. Your answer could be completely different depending on your understanding of this business problem."
   ]
  },
  {
   "cell_type": "code",
   "execution_count": 32,
   "metadata": {},
   "outputs": [
    {
     "name": "stdout",
     "output_type": "stream",
     "text": [
      "[[28093 11189]\n",
      " [  652  1098]]\n",
      "0.711420354844999\n",
      "[[22216 17066]\n",
      " [  195  1555]]\n",
      "0.5793283291089881\n"
     ]
    }
   ],
   "source": [
    "# AIC or BIC (best for descriptive models)\n",
    "# ...\n",
    "# confusion matrix\n",
    "from sklearn.metrics import confusion_matrix\n",
    "print(confusion_matrix(y, logistic.predict(X)))  # Logistic Regression\n",
    "print( (28093+1098) / (28093+11189+652+1098) )\n",
    "print(confusion_matrix(y, cclf.predict(X)))      # Random Forest\n",
    "print( (22216+1555) / (22216+17066+195+1555) )\n",
    "# initially the score was very high but that is because the training data was not balanced.\n",
    "# Added the option 'balanced' to the LogisticRegression and that brought down the score to a more reasonable number."
   ]
  },
  {
   "cell_type": "markdown",
   "metadata": {},
   "source": [
    "### Problem 7: Feature Engineering Revisit\n",
    "- Is there anything wrong with the new feature we generated? How should we fix it?\n",
    "- ***Hint***: For the real test set, we do not know it will get returned or not."
   ]
  },
  {
   "cell_type": "code",
   "execution_count": null,
   "metadata": {},
   "outputs": [],
   "source": [
    "# ..."
   ]
  }
 ],
 "metadata": {
  "kernelspec": {
   "display_name": "Python 3",
   "language": "python",
   "name": "python3"
  },
  "language_info": {
   "codemirror_mode": {
    "name": "ipython",
    "version": 3
   },
   "file_extension": ".py",
   "mimetype": "text/x-python",
   "name": "python",
   "nbconvert_exporter": "python",
   "pygments_lexer": "ipython3",
   "version": "3.8.3"
  }
 },
 "nbformat": 4,
 "nbformat_minor": 4
}
